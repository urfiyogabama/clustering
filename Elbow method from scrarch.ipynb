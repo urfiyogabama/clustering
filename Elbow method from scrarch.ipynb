{
 "cells": [
  {
   "cell_type": "code",
   "execution_count": 1,
   "metadata": {},
   "outputs": [],
   "source": [
    "import pandas as pd\n",
    "import random as rd\n",
    "from numpy import *\n",
    "from numpy.linalg import norm\n",
    "import seaborn as sns\n",
    "import matplotlib.pyplot as plt\n",
    "\n",
    "df = pd.read_csv(\"dataun.csv\")"
   ]
  },
  {
   "cell_type": "code",
   "execution_count": 2,
   "metadata": {},
   "outputs": [],
   "source": [
    "X=df.values\n",
    "#X=X[:,0:2]\n",
    "#mu awal\n",
    "n=len(X.T) # banyak feature\n",
    "cx_all=[] \n",
    "x_all_all=[]\n",
    "for i in range (7):\n",
    "    x=zeros((n,i+1))\n",
    "    for j in range (n):\n",
    "        for k in range (i+1):\n",
    "            x[j,k]=rd.uniform(min(X[:,j]),max(X[:,j])) #generate centroid awal\n",
    "    epoch=15\n",
    "    x_all=[]\n",
    "    for j in range (epoch):\n",
    "        cx=zeros((len(X),i+1))\n",
    "        x1=array(x)\n",
    "        x_all.append([x1])\n",
    "        for k in range (len (X)):\n",
    "            jarak=zeros((i+1))\n",
    "            for l in range (i+1):\n",
    "                jarak[l]=sqrt(sum((X[k,:]-x[:,l])**2))\n",
    "            i_min=where(jarak==min(jarak))[0]\n",
    "            cx[k][i_min[0]]=1\n",
    "        for k in range (n):\n",
    "            for l in range (i+1):\n",
    "                if sum(cx[:,l])!=0:\n",
    "                    x[k,l]=sum(cx[:,l]*X[:,k])/sum(cx[:,l])\n",
    "    cx_all.append([cx])\n",
    "    x_all_all.append([x])"
   ]
  },
  {
   "cell_type": "code",
   "execution_count": 3,
   "metadata": {},
   "outputs": [],
   "source": [
    "#Elbow Method\n",
    "WCSS=[]\n",
    "for j in range (7):\n",
    "    a_all=[]\n",
    "    for i in range (len(X)):\n",
    "        n=where(cx_all[j][0][i]==1)[0][0]\n",
    "        a=norm(X[i,:]-x_all_all[j][0].T[n])\n",
    "        a_all.append(a)\n",
    "    a_sum=sum(a_all)\n",
    "    WCSS.append(a_sum)"
   ]
  },
  {
   "cell_type": "code",
   "execution_count": 4,
   "metadata": {},
   "outputs": [
    {
     "data": {
      "text/plain": [
       "<matplotlib.axes._subplots.AxesSubplot at 0x182a12cdb08>"
      ]
     },
     "execution_count": 4,
     "metadata": {},
     "output_type": "execute_result"
    },
    {
     "data": {
      "image/png": "[encoded data removed]",
      "text/plain": [
       "<Figure size 432x288 with 1 Axes>"
      ]
     },
     "metadata": {
      "needs_background": "light"
     },
     "output_type": "display_data"
    }
   ],
   "source": [
    "d={'cluster':[1,2,3,4,5,6,7],'WCSS':WCSS}\n",
    "data=pd.DataFrame(d)\n",
    "sns.lineplot(data=data, x=\"cluster\", y=\"WCSS\")"
   ]
  },
  {
   "cell_type": "code",
   "execution_count": null,
   "metadata": {},
   "outputs": [],
   "source": []
  }
 ],
 "metadata": {
  "kernelspec": {
   "display_name": "Python 3",
   "language": "python",
   "name": "python3"
  },
  "language_info": {
   "codemirror_mode": {
    "name": "ipython",
    "version": 3
   },
   "file_extension": ".py",
   "mimetype": "text/x-python",
   "name": "python",
   "nbconvert_exporter": "python",
   "pygments_lexer": "ipython3",
   "version": "3.7.6"
  }
 },
 "nbformat": 4,
 "nbformat_minor": 4
}
